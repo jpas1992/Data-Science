{
 "cells": [
  {
   "cell_type": "markdown",
   "id": "677848d6",
   "metadata": {},
   "source": [
    "## Import libraries"
   ]
  },
  {
   "cell_type": "code",
   "execution_count": 1,
   "id": "a84b891b",
   "metadata": {},
   "outputs": [],
   "source": [
    "import pandas as pd\n",
    "import numpy as np\n",
    "import matplotlib.pyplot as plt \n",
    "from datetime import datetime, time, timedelta"
   ]
  },
  {
   "cell_type": "markdown",
   "id": "ec0b4370",
   "metadata": {},
   "source": [
    "## Load Data"
   ]
  },
  {
   "cell_type": "code",
   "execution_count": 2,
   "id": "d2f20fb9",
   "metadata": {},
   "outputs": [],
   "source": [
    "dfs=[]\n",
    "for i in range(651):\n",
    "    dfs.append(pd.read_csv('MachineVariables_Data/'+str(i)+'.csv'))"
   ]
  },
  {
   "cell_type": "code",
   "execution_count": 3,
   "id": "7e933146",
   "metadata": {},
   "outputs": [],
   "source": [
    "labels=pd.read_csv('ProductID_ClassLabel.csv')"
   ]
  },
  {
   "cell_type": "markdown",
   "id": "a942b516",
   "metadata": {},
   "source": [
    "## Data inspection and cleaning"
   ]
  },
  {
   "cell_type": "markdown",
   "id": "39c28fc4",
   "metadata": {},
   "source": [
    "### Labels"
   ]
  },
  {
   "cell_type": "code",
   "execution_count": 4,
   "id": "9fa9822d",
   "metadata": {},
   "outputs": [
    {
     "data": {
      "text/html": [
       "<div>\n",
       "<style scoped>\n",
       "    .dataframe tbody tr th:only-of-type {\n",
       "        vertical-align: middle;\n",
       "    }\n",
       "\n",
       "    .dataframe tbody tr th {\n",
       "        vertical-align: top;\n",
       "    }\n",
       "\n",
       "    .dataframe thead th {\n",
       "        text-align: right;\n",
       "    }\n",
       "</style>\n",
       "<table border=\"1\" class=\"dataframe\">\n",
       "  <thead>\n",
       "    <tr style=\"text-align: right;\">\n",
       "      <th></th>\n",
       "      <th>Product_ID</th>\n",
       "      <th>Classification</th>\n",
       "    </tr>\n",
       "  </thead>\n",
       "  <tbody>\n",
       "    <tr>\n",
       "      <th>0</th>\n",
       "      <td>0</td>\n",
       "      <td>Lumpy</td>\n",
       "    </tr>\n",
       "    <tr>\n",
       "      <th>1</th>\n",
       "      <td>1</td>\n",
       "      <td>Lumpy</td>\n",
       "    </tr>\n",
       "    <tr>\n",
       "      <th>2</th>\n",
       "      <td>2</td>\n",
       "      <td>Lumpy</td>\n",
       "    </tr>\n",
       "    <tr>\n",
       "      <th>3</th>\n",
       "      <td>3</td>\n",
       "      <td>Lumpy</td>\n",
       "    </tr>\n",
       "    <tr>\n",
       "      <th>4</th>\n",
       "      <td>4</td>\n",
       "      <td>Loose Wap</td>\n",
       "    </tr>\n",
       "  </tbody>\n",
       "</table>\n",
       "</div>"
      ],
      "text/plain": [
       "   Product_ID Classification\n",
       "0           0          Lumpy\n",
       "1           1          Lumpy\n",
       "2           2          Lumpy\n",
       "3           3          Lumpy\n",
       "4           4      Loose Wap"
      ]
     },
     "execution_count": 4,
     "metadata": {},
     "output_type": "execute_result"
    }
   ],
   "source": [
    "labels.head()"
   ]
  },
  {
   "cell_type": "code",
   "execution_count": 5,
   "id": "8002ee4d",
   "metadata": {},
   "outputs": [],
   "source": [
    "labels=labels.set_index('Product_ID') #Product_ID can serve as the index"
   ]
  },
  {
   "cell_type": "code",
   "execution_count": 6,
   "id": "d692e795",
   "metadata": {},
   "outputs": [
    {
     "data": {
      "text/plain": [
       "array(['Lumpy', 'Loose Wap', 'Lighting', 'Offset', 'Good', 'Sloped'],\n",
       "      dtype=object)"
      ]
     },
     "execution_count": 6,
     "metadata": {},
     "output_type": "execute_result"
    }
   ],
   "source": [
    "labels.Classification.unique()#all the labels which are not 'Good' or 'Lighting' \n",
    "#should be replaced by 'Untidy'"
   ]
  },
  {
   "cell_type": "code",
   "execution_count": 7,
   "id": "e2cf8a78",
   "metadata": {},
   "outputs": [],
   "source": [
    "labels=labels.replace({'Lumpy' : 'Untidy', 'Loose Wap': 'Untidy', 'Offset' : 'Untidy', \n",
    "                'Good' : 'Tidy', 'Sloped' : 'Untidy'})"
   ]
  },
  {
   "cell_type": "markdown",
   "id": "3d8b31ac",
   "metadata": {},
   "source": [
    "### Machine Variables Data"
   ]
  },
  {
   "cell_type": "markdown",
   "id": "db60eace",
   "metadata": {},
   "source": [
    "Now let's consider the Machine Variables Data, which we encoded in dfs.\n",
    "\n",
    "Let us start by simplifying the names of the columns."
   ]
  },
  {
   "cell_type": "code",
   "execution_count": 8,
   "id": "2e8ba7ee",
   "metadata": {},
   "outputs": [
    {
     "data": {
      "text/plain": [
       "Index(['Unnamed: 0', 'Time', 'Variable 1', 'Time.1', 'Variable 1.1', 'Time.2',\n",
       "       'Variable 3', 'Time.3', 'Variable 4', 'Time.4', 'Variable 5', 'Time.5',\n",
       "       'Variable 6', 'Time.6', 'Variable 7', 'Time.7', 'Variable 8', 'Time.8',\n",
       "       'Variable 9', 'Time.9', 'Variable 10', 'Time.10', 'Variable 11',\n",
       "       'Time.11', 'Variable 12', 'Time.12', 'Variable 13', 'Time.13',\n",
       "       'Variable 14', 'Time.14', 'Variable 15', 'Time.15', 'Variable 16',\n",
       "       'Time.16', 'Variable 17', 'Time.17', 'Variable 4097', 'Time.18',\n",
       "       'Variable 4098'],\n",
       "      dtype='object')"
      ]
     },
     "execution_count": 8,
     "metadata": {},
     "output_type": "execute_result"
    }
   ],
   "source": [
    "dfs[0].columns"
   ]
  },
  {
   "cell_type": "code",
   "execution_count": 9,
   "id": "533a24b5",
   "metadata": {},
   "outputs": [],
   "source": [
    "for i in range(len(dfs)):\n",
    "    dfs[i] = dfs[i].rename(columns={'Unnamed: 0': 'NotUseful', 'Time' : 'Time1', \n",
    "                       'Time.1' : 'Time2', 'Time.2' : 'Time3',\n",
    "                       'Time.3' : 'Time4', 'Time.4' : 'Time5',\n",
    "                       'Time.5' : 'Time6', 'Time.6' : 'Time7',\n",
    "                       'Time.7' : 'Time8', 'Time.8' : 'Time9',\n",
    "                       'Time.9' : 'Time10', 'Time.10' : 'Time11',\n",
    "                       'Time.11' : 'Time12', 'Time.12' : 'Time13',\n",
    "                       'Time.13' : 'Time14', 'Time.14' : 'Time15',\n",
    "                       'Time.15' : 'Time16', 'Time.16' : 'Time17',\n",
    "                       'Time.17' : 'Time18', 'Time.18' : 'Time19',\n",
    "                       'Variable 1' : 'var1', 'Variable 1.1' : 'var2',\n",
    "                       'Variable 3' : 'var3', 'Variable 4' : 'var4',\n",
    "                       'Variable 5' : 'var5', 'Variable 6' : 'var6',\n",
    "                       'Variable 7' : 'var7', 'Variable 8' : 'var8',\n",
    "                       'Variable 9' : 'var9', 'Variable 10' : 'var10',\n",
    "                       'Variable 11' : 'var11', 'Variable 12' : 'var12',\n",
    "                       'Variable 13' : 'var13', 'Variable 14' : 'var14',\n",
    "                       'Variable 15' : 'var15', 'Variable 16' : 'var16',\n",
    "                       'Variable 17' : 'var17'})"
   ]
  },
  {
   "cell_type": "markdown",
   "id": "5527439e",
   "metadata": {},
   "source": [
    "Let's drop column 'NotUseful'"
   ]
  },
  {
   "cell_type": "code",
   "execution_count": 10,
   "id": "83c7c398",
   "metadata": {},
   "outputs": [],
   "source": [
    "for i in range(len(dfs)):\n",
    "    dfs[i] = dfs[i].drop('NotUseful',axis=1)"
   ]
  },
  {
   "cell_type": "markdown",
   "id": "7e5d9ead",
   "metadata": {},
   "source": [
    "Each variable is measured for a time duration corresponding to the column to its left.\n",
    "\n",
    "Let's change the ordering of the columns, so as to match the ordering in the production line.\n",
    "Variable 13 should come first, afterwards Variable 14 and so on.\n",
    "\n",
    "Note: for some products, there are extra variables like Variable 4000 . These are sometimes present, sometimes not -- we will simply ignore them in our model."
   ]
  },
  {
   "cell_type": "code",
   "execution_count": 11,
   "id": "91fb49cd",
   "metadata": {},
   "outputs": [],
   "source": [
    "for i in range(len(dfs)):\n",
    "    dfs[i] = pd.concat([dfs[i].Time13, dfs[i].var13, dfs[i].Time14, dfs[i].var14, \n",
    "           dfs[i].Time15, dfs[i].var15, dfs[i].Time16, dfs[i].var16,\n",
    "           dfs[i].Time17, dfs[i].var17, dfs[i].Time7, dfs[i].var7,\n",
    "           dfs[i].Time8, dfs[i].var8, dfs[i].Time9, dfs[i].var9,\n",
    "           dfs[i].Time10, dfs[i].var10, dfs[i].Time11, dfs[i].var11,\n",
    "           dfs[i].Time12, dfs[i].var12, dfs[i].Time4, dfs[i].var4,\n",
    "           dfs[i].Time5, dfs[i].var5, dfs[i].Time6, dfs[i].var6,\n",
    "           dfs[i].Time3, dfs[i].var3, dfs[i].Time1, dfs[i].var1,\n",
    "           dfs[i].Time2, dfs[i].var2],axis=1)"
   ]
  },
  {
   "cell_type": "markdown",
   "id": "c16e99d1",
   "metadata": {},
   "source": [
    "At each machine, the times recorded are all the same. Example: Time7 = Time8, Time1 = Time 2 and so on.\n",
    "\n",
    "So, let's eliminate a lot of this redudant information."
   ]
  },
  {
   "cell_type": "code",
   "execution_count": 12,
   "id": "a5128ac0",
   "metadata": {},
   "outputs": [],
   "source": [
    "for i in range(len(dfs)):\n",
    "    dfs[i] = dfs[i].drop(['Time14', 'Time15', 'Time16',\n",
    "                          'Time17', 'Time8', 'Time9',\n",
    "                          'Time10', 'Time11', 'Time12',\n",
    "                          'Time5', 'Time6', 'Time2',\n",
    "                         ],axis=1)\n",
    "    dfs[i] = dfs[i].rename(columns={'Time13': 'TimeM1', 'Time7': 'TimeM2',\n",
    "                                    'Time4': 'TimeM3', 'Time3': 'TimeM4',\n",
    "                                    'Time1': 'TimeM5'})"
   ]
  },
  {
   "cell_type": "markdown",
   "id": "bd8779be",
   "metadata": {},
   "source": [
    "The precise clock times don't matter, what matter is the number of seconds elapsed during a given process.\n",
    "\n",
    "The following code simplifies the Time columns. (this part of the code is messy, don't read in detail)"
   ]
  },
  {
   "cell_type": "code",
   "execution_count": 13,
   "id": "07262030",
   "metadata": {},
   "outputs": [],
   "source": [
    "for i in range(len(dfs)):\n",
    "    \n",
    "    #register TimeM1\n",
    "    \n",
    "    times = dfs[i].TimeM1.map(lambda t: datetime.strptime(t, '%Y-%m-%d %H:%M:%S') \n",
    "                  if isinstance(t, str) else np.nan)\n",
    "    dfs[i].TimeM1 = times.map(lambda t: (t-times.iloc[0]).seconds if isinstance(t, datetime)\n",
    "                              else np.nan) \n",
    "    \n",
    "    #register TimeM2\n",
    "\n",
    "    times = dfs[i].TimeM2.map(lambda t: datetime.strptime(t, '%Y-%m-%d %H:%M:%S') \n",
    "                  if isinstance(t, str) else np.nan)\n",
    "    dfs[i].TimeM2 = times.map(lambda t: (t-times.iloc[0]).seconds if isinstance(t, datetime)\n",
    "                              else np.nan)\n",
    "    \n",
    "    #register TimeM3\n",
    "\n",
    "    times = dfs[i].TimeM3.map(lambda t: datetime.strptime(t, '%Y-%m-%d %H:%M:%S') \n",
    "                  if isinstance(t, str) else np.nan)\n",
    "    dfs[i].TimeM3 = times.map(lambda t: (t-times.iloc[0]).seconds if isinstance(t, datetime)\n",
    "                              else np.nan)\n",
    "    \n",
    "    #register TimeM4\n",
    "\n",
    "    times = dfs[i].TimeM4.map(lambda t: datetime.strptime(t, '%Y-%m-%d %H:%M:%S') \n",
    "                  if isinstance(t, str) else np.nan)\n",
    "    dfs[i].TimeM4 = times.map(lambda t: (t-times.iloc[0]).seconds if isinstance(t, datetime)\n",
    "                              else np.nan)\n",
    "    \n",
    "    #register TimeM5\n",
    "\n",
    "    times = dfs[i].TimeM5.map(lambda t: datetime.strptime(t, '%Y-%m-%d %H:%M:%S') \n",
    "                  if isinstance(t, str) else np.nan)\n",
    "    dfs[i].TimeM5 = times.map(lambda t: (t-times.iloc[0]).seconds if isinstance(t, datetime)\n",
    "                              else np.nan)\n",
    "    "
   ]
  },
  {
   "cell_type": "markdown",
   "id": "c3d719d5",
   "metadata": {},
   "source": [
    "## Exploratory Data Analysis and Feature Extraction"
   ]
  },
  {
   "cell_type": "markdown",
   "id": "7c66c181",
   "metadata": {},
   "source": [
    "### Labels"
   ]
  },
  {
   "cell_type": "markdown",
   "id": "82d22a22",
   "metadata": {},
   "source": [
    "Let's look at the labels distribution.\n",
    "\n",
    "Let's start by removing the 'Lighting' products, since these won't matter to our analysis."
   ]
  },
  {
   "cell_type": "code",
   "execution_count": 14,
   "id": "33432b3e",
   "metadata": {},
   "outputs": [
    {
     "data": {
      "text/plain": [
       "Classification\n",
       "Untidy            356\n",
       "Tidy              158\n",
       "Name: count, dtype: int64"
      ]
     },
     "execution_count": 14,
     "metadata": {},
     "output_type": "execute_result"
    }
   ],
   "source": [
    "l = labels.loc[ (labels.Classification == 'Tidy') | (labels.Classification == 'Untidy')]\n",
    "l.value_counts()"
   ]
  },
  {
   "cell_type": "markdown",
   "id": "c7ccdc6d",
   "metadata": {},
   "source": [
    "So, we see that there are more almost double 'Untidy' products than there are 'Tidy'. In this sense, our dataset is imbalanced and we might need to take this into account when modelling.\n",
    "\n",
    "The 'Tidy' products seem to come in bunches, let's make a histogram to see if that's the case."
   ]
  },
  {
   "cell_type": "code",
   "execution_count": 15,
   "id": "ab7c9bf2",
   "metadata": {},
   "outputs": [
    {
     "data": {
      "image/png": "[encoded data removed]",
      "text/plain": [
       "<Figure size 640x480 with 1 Axes>"
      ]
     },
     "metadata": {},
     "output_type": "display_data"
    }
   ],
   "source": [
    "counts, bins = np.histogram( l.loc[ (l.Classification == 'Tidy') ].index.to_numpy(), np.arange(0,660,10))\n",
    "plt.stairs(counts, bins)\n",
    "del(counts, bins)"
   ]
  },
  {
   "cell_type": "markdown",
   "id": "fe7b1ab8",
   "metadata": {},
   "source": [
    "This histogram has many spikes which indicates that indeed the 'Tidy' products come in bunches.\n",
    "\n",
    "Let's make this observation a little more precise. Given a random observation, the probability of getting 'Tidy' is equal to\n",
    "\n",
    "number('Tidy')/ (number('Tidy') + number('Untidy') ) = 0.307\n",
    "\n",
    "Let's study what the effect of having obtained 'Tidy' in a previous observation has on our current measurement."
   ]
  },
  {
   "cell_type": "code",
   "execution_count": 16,
   "id": "2e5e50f5",
   "metadata": {},
   "outputs": [],
   "source": [
    "l2 = l.copy()\n",
    "l2['lag1'] = l2['Classification'].shift(1, fill_value = np.nan)\n",
    "l2['lag2'] = l2['Classification'].shift(2, fill_value = np.nan)\n",
    "l2['lag3'] = l2['Classification'].shift(3, fill_value = np.nan)\n",
    "l2['lag4'] = l2['Classification'].shift(4, fill_value = np.nan)\n",
    "l2['lag5'] = l2['Classification'].shift(5, fill_value = np.nan)"
   ]
  },
  {
   "cell_type": "code",
   "execution_count": 17,
   "id": "e3236908",
   "metadata": {},
   "outputs": [
    {
     "data": {
      "text/plain": [
       "Classification\n",
       "Untidy    90\n",
       "Tidy      67\n",
       "Name: count, dtype: int64"
      ]
     },
     "execution_count": 17,
     "metadata": {},
     "output_type": "execute_result"
    }
   ],
   "source": [
    "l2.loc[ l2.lag1 == 'Tidy'].Classification.value_counts()"
   ]
  },
  {
   "cell_type": "markdown",
   "id": "0be7911e",
   "metadata": {},
   "source": [
    "So, if an observation returns 'Tidy', the probability the next observation returns 'Tidy' is equal to 67/(67+90) = 0.42 . This is higher than 0.3."
   ]
  },
  {
   "cell_type": "code",
   "execution_count": 18,
   "id": "74141992",
   "metadata": {},
   "outputs": [
    {
     "data": {
      "text/plain": [
       "Classification\n",
       "Tidy      36\n",
       "Untidy    31\n",
       "Name: count, dtype: int64"
      ]
     },
     "execution_count": 18,
     "metadata": {},
     "output_type": "execute_result"
    }
   ],
   "source": [
    "l2.loc[ (l2.lag1 == 'Tidy') & (l2.lag2 == 'Tidy')].Classification.value_counts()"
   ]
  },
  {
   "cell_type": "markdown",
   "id": "1a1b48d8",
   "metadata": {},
   "source": [
    "So, if the two previous values are 'Tidy', the probability of getting 'Tidy' in the next measurement is equal to 0.54."
   ]
  },
  {
   "cell_type": "code",
   "execution_count": 19,
   "id": "bbf9913e",
   "metadata": {},
   "outputs": [
    {
     "data": {
      "text/plain": [
       "Classification\n",
       "Tidy      25\n",
       "Untidy    11\n",
       "Name: count, dtype: int64"
      ]
     },
     "execution_count": 19,
     "metadata": {},
     "output_type": "execute_result"
    }
   ],
   "source": [
    "l2.loc[ (l2.lag1 == 'Tidy') & (l2.lag2 == 'Tidy') & (l2.lag3 == 'Tidy')].Classification.value_counts()"
   ]
  },
  {
   "cell_type": "markdown",
   "id": "ff8fe749",
   "metadata": {},
   "source": [
    "If we get 'Tidy' three times in a row, the probability of getting 'Tidy' in the next measurement is 0.7."
   ]
  },
  {
   "cell_type": "markdown",
   "id": "ec9672a0",
   "metadata": {},
   "source": [
    "Clearly, the lag columns will be important features. Let's store them"
   ]
  },
  {
   "cell_type": "code",
   "execution_count": 20,
   "id": "d132444a",
   "metadata": {},
   "outputs": [],
   "source": [
    "features = pd.concat([l2.lag1, l2.lag2, l2.lag3, l2.lag4, l2.lag5], axis = 1)\n",
    "del(l2)"
   ]
  },
  {
   "cell_type": "markdown",
   "id": "e593161d",
   "metadata": {},
   "source": [
    "### Machine Variables Data - Time Independent Part"
   ]
  },
  {
   "cell_type": "markdown",
   "id": "71608fca",
   "metadata": {},
   "source": [
    "Let's turn to the MachineVariables_data. Due to time-dependence, for every product we have a lot of information, corresponding to the measurements done at each second.\n",
    "\n",
    "From this large amount of data, we need to select the most important features. This is what we will actually use to later train a model that performs binary classification."
   ]
  },
  {
   "cell_type": "markdown",
   "id": "58f893e2",
   "metadata": {},
   "source": [
    "Many of the variables hardly change during the production process. When they don't change, we should replace them by their mean.\n",
    "\n",
    "For each variable describing each product for a duration of time, we will compute its standard deviation divided by its mean over the duration of time. This will give us a good understanding of whether the variable changes or not."
   ]
  },
  {
   "cell_type": "code",
   "execution_count": 22,
   "id": "02077b6e",
   "metadata": {},
   "outputs": [],
   "source": [
    "variables=['var13', 'var14', 'var15', 'var16', 'var17', 'var7',\n",
    "       'var8', 'var9', 'var10', 'var11', 'var12', 'var4', 'var5',\n",
    "       'var6', 'var3', 'var1', 'var2']\n",
    "\n",
    "stats={}\n",
    "\n",
    "for variable in variables:\n",
    "    stats_var=[]\n",
    "    \n",
    "    for i in range(len(dfs)):\n",
    "        std = dfs[i][variable].std()\n",
    "        mean = dfs[i][variable].mean()\n",
    "        \n",
    "        if mean ==0.0:\n",
    "            mean = 10**(-8) #avoid 0's in denominator\n",
    "            \n",
    "        std_normalised = abs(std/mean)\n",
    "        \n",
    "        stats_var.append(np.around(std_normalised,3))\n",
    "        \n",
    "    stats[variable] = np.array(stats_var)\n",
    "    \n",
    "stats=pd.DataFrame(stats)\n",
    "\n",
    "stats['Classification'] = labels.Classification ## let's add the labels to these stats"
   ]
  },
  {
   "cell_type": "markdown",
   "id": "4d75b122",
   "metadata": {},
   "source": [
    "For example:"
   ]
  },
  {
   "cell_type": "code",
   "execution_count": 23,
   "id": "20a30991",
   "metadata": {},
   "outputs": [
    {
     "data": {
      "text/html": [
       "<div>\n",
       "<style scoped>\n",
       "    .dataframe tbody tr th:only-of-type {\n",
       "        vertical-align: middle;\n",
       "    }\n",
       "\n",
       "    .dataframe tbody tr th {\n",
       "        vertical-align: top;\n",
       "    }\n",
       "\n",
       "    .dataframe thead th {\n",
       "        text-align: right;\n",
       "    }\n",
       "</style>\n",
       "<table border=\"1\" class=\"dataframe\">\n",
       "  <thead>\n",
       "    <tr style=\"text-align: right;\">\n",
       "      <th></th>\n",
       "      <th>var13</th>\n",
       "      <th>var14</th>\n",
       "      <th>var15</th>\n",
       "      <th>var16</th>\n",
       "      <th>var17</th>\n",
       "      <th>var7</th>\n",
       "      <th>var8</th>\n",
       "      <th>var9</th>\n",
       "      <th>var10</th>\n",
       "      <th>var11</th>\n",
       "      <th>var12</th>\n",
       "      <th>var4</th>\n",
       "      <th>var5</th>\n",
       "      <th>var6</th>\n",
       "      <th>var3</th>\n",
       "      <th>var1</th>\n",
       "      <th>var2</th>\n",
       "      <th>Classification</th>\n",
       "    </tr>\n",
       "  </thead>\n",
       "  <tbody>\n",
       "    <tr>\n",
       "      <th>456</th>\n",
       "      <td>0.0</td>\n",
       "      <td>1.634</td>\n",
       "      <td>1.713</td>\n",
       "      <td>0.027</td>\n",
       "      <td>0.061</td>\n",
       "      <td>0.0</td>\n",
       "      <td>0.0</td>\n",
       "      <td>0.0</td>\n",
       "      <td>1.634</td>\n",
       "      <td>1.045</td>\n",
       "      <td>0.000</td>\n",
       "      <td>0.0</td>\n",
       "      <td>0.0</td>\n",
       "      <td>0.0</td>\n",
       "      <td>0.0</td>\n",
       "      <td>0.0</td>\n",
       "      <td>0.0</td>\n",
       "      <td>Untidy</td>\n",
       "    </tr>\n",
       "    <tr>\n",
       "      <th>477</th>\n",
       "      <td>0.0</td>\n",
       "      <td>1.262</td>\n",
       "      <td>1.375</td>\n",
       "      <td>0.026</td>\n",
       "      <td>0.072</td>\n",
       "      <td>0.0</td>\n",
       "      <td>0.0</td>\n",
       "      <td>0.0</td>\n",
       "      <td>1.272</td>\n",
       "      <td>2.090</td>\n",
       "      <td>7.396</td>\n",
       "      <td>0.0</td>\n",
       "      <td>0.0</td>\n",
       "      <td>0.0</td>\n",
       "      <td>0.0</td>\n",
       "      <td>0.0</td>\n",
       "      <td>0.0</td>\n",
       "      <td>Tidy</td>\n",
       "    </tr>\n",
       "  </tbody>\n",
       "</table>\n",
       "</div>"
      ],
      "text/plain": [
       "     var13  var14  var15  var16  var17  var7  var8  var9  var10  var11  var12  \\\n",
       "456    0.0  1.634  1.713  0.027  0.061   0.0   0.0   0.0  1.634  1.045  0.000   \n",
       "477    0.0  1.262  1.375  0.026  0.072   0.0   0.0   0.0  1.272  2.090  7.396   \n",
       "\n",
       "     var4  var5  var6  var3  var1  var2 Classification  \n",
       "456   0.0   0.0   0.0   0.0   0.0   0.0         Untidy  \n",
       "477   0.0   0.0   0.0   0.0   0.0   0.0           Tidy  "
      ]
     },
     "execution_count": 23,
     "metadata": {},
     "output_type": "execute_result"
    }
   ],
   "source": [
    "stats.loc[ stats.var14 > 0.05 ]"
   ]
  },
  {
   "cell_type": "markdown",
   "id": "4e62be72",
   "metadata": {},
   "source": [
    "So, only two times did var14 change by more than 5 %. For this reason, we can safely reduce it to its mean.\n",
    "\n",
    "Note that during those two times something very abrupt must have happened, since the variation was more than 100%. These are outliers, and we will remove them."
   ]
  },
  {
   "cell_type": "markdown",
   "id": "85ba4105",
   "metadata": {},
   "source": [
    "By scanning through the variables we conclude that the following list of variables"
   ]
  },
  {
   "cell_type": "code",
   "execution_count": 24,
   "id": "4e5a5eb3",
   "metadata": {},
   "outputs": [],
   "source": [
    "vars_to_mean = ['var2', 'var3', 'var4', 'var5', 'var6', 'var7', 'var8', 'var9', 'var10', 'var13'\n",
    " , 'var14', 'var15', 'var16', 'var17']"
   ]
  },
  {
   "cell_type": "markdown",
   "id": "0f1b1aaa",
   "metadata": {},
   "source": [
    "can be safely replaced by their mean. These are the time independent variables.\n",
    "\n",
    "Some outliers have their variables of type vars_to_mean changing with time. Let's identify them."
   ]
  },
  {
   "cell_type": "code",
   "execution_count": 25,
   "id": "a275a795",
   "metadata": {},
   "outputs": [
    {
     "data": {
      "text/plain": [
       "array([ 73,  85, 242, 254, 398, 402, 456, 477, 572, 585, 642])"
      ]
     },
     "execution_count": 25,
     "metadata": {},
     "output_type": "execute_result"
    }
   ],
   "source": [
    "outliers = np.array([])\n",
    "for i in range(len(vars_to_mean)):\n",
    "    outliers = np.append(outliers, stats.loc[ stats[vars_to_mean[i]] > 0.5 ].index.to_numpy() )\n",
    "\n",
    "outliers = np.unique(outliers).astype(int)\n",
    "outliers"
   ]
  },
  {
   "cell_type": "markdown",
   "id": "b36c709b",
   "metadata": {},
   "source": [
    "Finally, let's compute the means of the time-independent variables."
   ]
  },
  {
   "cell_type": "code",
   "execution_count": 26,
   "id": "9dd7a311",
   "metadata": {},
   "outputs": [
    {
     "data": {
      "text/html": [
       "<div>\n",
       "<style scoped>\n",
       "    .dataframe tbody tr th:only-of-type {\n",
       "        vertical-align: middle;\n",
       "    }\n",
       "\n",
       "    .dataframe tbody tr th {\n",
       "        vertical-align: top;\n",
       "    }\n",
       "\n",
       "    .dataframe thead th {\n",
       "        text-align: right;\n",
       "    }\n",
       "</style>\n",
       "<table border=\"1\" class=\"dataframe\">\n",
       "  <thead>\n",
       "    <tr style=\"text-align: right;\">\n",
       "      <th></th>\n",
       "      <th>var2</th>\n",
       "      <th>var3</th>\n",
       "      <th>var4</th>\n",
       "      <th>var5</th>\n",
       "      <th>var6</th>\n",
       "      <th>var7</th>\n",
       "      <th>var8</th>\n",
       "      <th>var9</th>\n",
       "      <th>var10</th>\n",
       "      <th>var13</th>\n",
       "      <th>var14</th>\n",
       "      <th>var15</th>\n",
       "      <th>var16</th>\n",
       "      <th>var17</th>\n",
       "    </tr>\n",
       "  </thead>\n",
       "  <tbody>\n",
       "    <tr>\n",
       "      <th>0</th>\n",
       "      <td>1759.00</td>\n",
       "      <td>71.0</td>\n",
       "      <td>900.0</td>\n",
       "      <td>930.0</td>\n",
       "      <td>930.0</td>\n",
       "      <td>0.0</td>\n",
       "      <td>900.0</td>\n",
       "      <td>900.0</td>\n",
       "      <td>63.34</td>\n",
       "      <td>5.5</td>\n",
       "      <td>9.86</td>\n",
       "      <td>5.28</td>\n",
       "      <td>41.29</td>\n",
       "      <td>38.99</td>\n",
       "    </tr>\n",
       "    <tr>\n",
       "      <th>1</th>\n",
       "      <td>1759.00</td>\n",
       "      <td>71.0</td>\n",
       "      <td>900.0</td>\n",
       "      <td>930.0</td>\n",
       "      <td>930.0</td>\n",
       "      <td>0.0</td>\n",
       "      <td>900.0</td>\n",
       "      <td>900.0</td>\n",
       "      <td>63.84</td>\n",
       "      <td>5.5</td>\n",
       "      <td>9.94</td>\n",
       "      <td>5.29</td>\n",
       "      <td>42.54</td>\n",
       "      <td>40.68</td>\n",
       "    </tr>\n",
       "    <tr>\n",
       "      <th>2</th>\n",
       "      <td>1759.02</td>\n",
       "      <td>71.0</td>\n",
       "      <td>1400.0</td>\n",
       "      <td>930.0</td>\n",
       "      <td>930.0</td>\n",
       "      <td>0.0</td>\n",
       "      <td>1400.0</td>\n",
       "      <td>1400.0</td>\n",
       "      <td>64.00</td>\n",
       "      <td>5.5</td>\n",
       "      <td>9.96</td>\n",
       "      <td>5.40</td>\n",
       "      <td>41.75</td>\n",
       "      <td>39.24</td>\n",
       "    </tr>\n",
       "    <tr>\n",
       "      <th>3</th>\n",
       "      <td>1759.02</td>\n",
       "      <td>71.0</td>\n",
       "      <td>1400.0</td>\n",
       "      <td>930.0</td>\n",
       "      <td>930.0</td>\n",
       "      <td>0.0</td>\n",
       "      <td>1400.0</td>\n",
       "      <td>1400.0</td>\n",
       "      <td>66.78</td>\n",
       "      <td>5.5</td>\n",
       "      <td>10.30</td>\n",
       "      <td>6.32</td>\n",
       "      <td>41.32</td>\n",
       "      <td>37.55</td>\n",
       "    </tr>\n",
       "    <tr>\n",
       "      <th>4</th>\n",
       "      <td>1759.00</td>\n",
       "      <td>71.0</td>\n",
       "      <td>1400.0</td>\n",
       "      <td>930.0</td>\n",
       "      <td>930.0</td>\n",
       "      <td>0.0</td>\n",
       "      <td>1400.0</td>\n",
       "      <td>1400.0</td>\n",
       "      <td>66.78</td>\n",
       "      <td>5.5</td>\n",
       "      <td>10.30</td>\n",
       "      <td>6.33</td>\n",
       "      <td>40.44</td>\n",
       "      <td>36.08</td>\n",
       "    </tr>\n",
       "  </tbody>\n",
       "</table>\n",
       "</div>"
      ],
      "text/plain": [
       "      var2  var3    var4   var5   var6  var7    var8    var9  var10  var13  \\\n",
       "0  1759.00  71.0   900.0  930.0  930.0   0.0   900.0   900.0  63.34    5.5   \n",
       "1  1759.00  71.0   900.0  930.0  930.0   0.0   900.0   900.0  63.84    5.5   \n",
       "2  1759.02  71.0  1400.0  930.0  930.0   0.0  1400.0  1400.0  64.00    5.5   \n",
       "3  1759.02  71.0  1400.0  930.0  930.0   0.0  1400.0  1400.0  66.78    5.5   \n",
       "4  1759.00  71.0  1400.0  930.0  930.0   0.0  1400.0  1400.0  66.78    5.5   \n",
       "\n",
       "   var14  var15  var16  var17  \n",
       "0   9.86   5.28  41.29  38.99  \n",
       "1   9.94   5.29  42.54  40.68  \n",
       "2   9.96   5.40  41.75  39.24  \n",
       "3  10.30   6.32  41.32  37.55  \n",
       "4  10.30   6.33  40.44  36.08  "
      ]
     },
     "execution_count": 26,
     "metadata": {},
     "output_type": "execute_result"
    }
   ],
   "source": [
    "df_means = pd.concat([pd.DataFrame([dfs[i][vars_to_mean].mean().round(2)], index = [i]) \n",
    "                      for i in range(len(dfs))], axis = 0)\n",
    "df_means.head()"
   ]
  },
  {
   "cell_type": "markdown",
   "id": "4d7d8d32",
   "metadata": {},
   "source": [
    "Having obtained df_means let's join it to our features and remove outliers."
   ]
  },
  {
   "cell_type": "code",
   "execution_count": 27,
   "id": "12825945",
   "metadata": {},
   "outputs": [],
   "source": [
    "indx_to_drop = np.intersect1d(features.index.to_numpy(),outliers) #outlier indices"
   ]
  },
  {
   "cell_type": "code",
   "execution_count": 28,
   "id": "a4adfa61",
   "metadata": {},
   "outputs": [],
   "source": [
    "features_new = features.join(df_means.loc[features.index]).drop(indx_to_drop, axis = 0)"
   ]
  },
  {
   "cell_type": "markdown",
   "id": "36b69590",
   "metadata": {},
   "source": [
    "Let's see if some of the variables don't change much for all the products. If that's the case, let's drop them."
   ]
  },
  {
   "cell_type": "code",
   "execution_count": 29,
   "id": "71c4732c",
   "metadata": {},
   "outputs": [
    {
     "data": {
      "text/plain": [
       "var2     0.000013\n",
       "var3     0.713261\n",
       "var4     0.705653\n",
       "var5     0.209302\n",
       "var6     0.209301\n",
       "var7     3.012222\n",
       "var8     0.706370\n",
       "var9     0.706519\n",
       "var10    0.290112\n",
       "var13    0.319863\n",
       "var14    0.189262\n",
       "var15    0.190289\n",
       "var16    0.126013\n",
       "var17    0.124341\n",
       "dtype: float64"
      ]
     },
     "execution_count": 29,
     "metadata": {},
     "output_type": "execute_result"
    }
   ],
   "source": [
    "features_new[vars_to_mean].std() / features_new[vars_to_mean].mean()"
   ]
  },
  {
   "cell_type": "markdown",
   "id": "637eee73",
   "metadata": {},
   "source": [
    "var2 doesn't change that much, we can drop it."
   ]
  },
  {
   "cell_type": "code",
   "execution_count": 30,
   "id": "63f031e3",
   "metadata": {},
   "outputs": [],
   "source": [
    "features_new = features_new.drop('var2', axis = 1)"
   ]
  },
  {
   "cell_type": "markdown",
   "id": "f242a1b2",
   "metadata": {},
   "source": [
    "There would be more outliers we could remove. For example:"
   ]
  },
  {
   "cell_type": "code",
   "execution_count": 32,
   "id": "a9496a30",
   "metadata": {},
   "outputs": [
    {
     "data": {
      "text/plain": [
       "var4\n",
       "1400.00    227\n",
       "200.00     224\n",
       "750.00      36\n",
       "900.00      17\n",
       "1255.23      1\n",
       "1214.27      1\n",
       "Name: count, dtype: int64"
      ]
     },
     "execution_count": 32,
     "metadata": {},
     "output_type": "execute_result"
    }
   ],
   "source": [
    "features_new.var4.value_counts()"
   ]
  },
  {
   "cell_type": "markdown",
   "id": "b0999e6a",
   "metadata": {},
   "source": [
    "I suspect the last two values are outliers. I'm running out of time so I will leave removal of outliers for a future iteration."
   ]
  },
  {
   "cell_type": "markdown",
   "id": "1c0b1c49",
   "metadata": {},
   "source": [
    "## Correlated Variables"
   ]
  },
  {
   "cell_type": "code",
   "execution_count": 32,
   "id": "adb50696",
   "metadata": {},
   "outputs": [
    {
     "data": {
      "text/html": [
       "<div>\n",
       "<style scoped>\n",
       "    .dataframe tbody tr th:only-of-type {\n",
       "        vertical-align: middle;\n",
       "    }\n",
       "\n",
       "    .dataframe tbody tr th {\n",
       "        vertical-align: top;\n",
       "    }\n",
       "\n",
       "    .dataframe thead th {\n",
       "        text-align: right;\n",
       "    }\n",
       "</style>\n",
       "<table border=\"1\" class=\"dataframe\">\n",
       "  <thead>\n",
       "    <tr style=\"text-align: right;\">\n",
       "      <th></th>\n",
       "      <th>var3</th>\n",
       "      <th>var4</th>\n",
       "      <th>var5</th>\n",
       "      <th>var6</th>\n",
       "      <th>var7</th>\n",
       "      <th>var8</th>\n",
       "      <th>var9</th>\n",
       "      <th>var10</th>\n",
       "      <th>var13</th>\n",
       "      <th>var14</th>\n",
       "      <th>var15</th>\n",
       "      <th>var16</th>\n",
       "      <th>var17</th>\n",
       "    </tr>\n",
       "  </thead>\n",
       "  <tbody>\n",
       "    <tr>\n",
       "      <th>var3</th>\n",
       "      <td>1.000000</td>\n",
       "      <td>-0.004936</td>\n",
       "      <td>-0.001899</td>\n",
       "      <td>-0.001895</td>\n",
       "      <td>0.035640</td>\n",
       "      <td>0.004115</td>\n",
       "      <td>0.004403</td>\n",
       "      <td>0.025797</td>\n",
       "      <td>0.049661</td>\n",
       "      <td>0.099706</td>\n",
       "      <td>-0.059109</td>\n",
       "      <td>0.247406</td>\n",
       "      <td>-0.153048</td>\n",
       "    </tr>\n",
       "    <tr>\n",
       "      <th>var4</th>\n",
       "      <td>-0.004936</td>\n",
       "      <td>1.000000</td>\n",
       "      <td>0.950192</td>\n",
       "      <td>0.950190</td>\n",
       "      <td>-0.091289</td>\n",
       "      <td>0.988812</td>\n",
       "      <td>0.988724</td>\n",
       "      <td>-0.030064</td>\n",
       "      <td>-0.026858</td>\n",
       "      <td>-0.075904</td>\n",
       "      <td>-0.001524</td>\n",
       "      <td>-0.077278</td>\n",
       "      <td>-0.032270</td>\n",
       "    </tr>\n",
       "    <tr>\n",
       "      <th>var5</th>\n",
       "      <td>-0.001899</td>\n",
       "      <td>0.950192</td>\n",
       "      <td>1.000000</td>\n",
       "      <td>1.000000</td>\n",
       "      <td>0.173517</td>\n",
       "      <td>0.940869</td>\n",
       "      <td>0.940815</td>\n",
       "      <td>-0.223194</td>\n",
       "      <td>0.246662</td>\n",
       "      <td>-0.077232</td>\n",
       "      <td>0.054210</td>\n",
       "      <td>-0.165775</td>\n",
       "      <td>-0.103565</td>\n",
       "    </tr>\n",
       "    <tr>\n",
       "      <th>var6</th>\n",
       "      <td>-0.001895</td>\n",
       "      <td>0.950190</td>\n",
       "      <td>1.000000</td>\n",
       "      <td>1.000000</td>\n",
       "      <td>0.173520</td>\n",
       "      <td>0.940868</td>\n",
       "      <td>0.940814</td>\n",
       "      <td>-0.223187</td>\n",
       "      <td>0.246665</td>\n",
       "      <td>-0.077219</td>\n",
       "      <td>0.054224</td>\n",
       "      <td>-0.165766</td>\n",
       "      <td>-0.103554</td>\n",
       "    </tr>\n",
       "    <tr>\n",
       "      <th>var7</th>\n",
       "      <td>0.035640</td>\n",
       "      <td>-0.091289</td>\n",
       "      <td>0.173517</td>\n",
       "      <td>0.173520</td>\n",
       "      <td>1.000000</td>\n",
       "      <td>-0.086174</td>\n",
       "      <td>-0.086182</td>\n",
       "      <td>-0.699988</td>\n",
       "      <td>0.963726</td>\n",
       "      <td>-0.033747</td>\n",
       "      <td>0.202136</td>\n",
       "      <td>-0.374089</td>\n",
       "      <td>-0.343869</td>\n",
       "    </tr>\n",
       "    <tr>\n",
       "      <th>var8</th>\n",
       "      <td>0.004115</td>\n",
       "      <td>0.988812</td>\n",
       "      <td>0.940869</td>\n",
       "      <td>0.940868</td>\n",
       "      <td>-0.086174</td>\n",
       "      <td>1.000000</td>\n",
       "      <td>0.999990</td>\n",
       "      <td>-0.024391</td>\n",
       "      <td>-0.021997</td>\n",
       "      <td>-0.062742</td>\n",
       "      <td>0.012793</td>\n",
       "      <td>-0.073559</td>\n",
       "      <td>-0.028782</td>\n",
       "    </tr>\n",
       "    <tr>\n",
       "      <th>var9</th>\n",
       "      <td>0.004403</td>\n",
       "      <td>0.988724</td>\n",
       "      <td>0.940815</td>\n",
       "      <td>0.940814</td>\n",
       "      <td>-0.086182</td>\n",
       "      <td>0.999990</td>\n",
       "      <td>1.000000</td>\n",
       "      <td>-0.024473</td>\n",
       "      <td>-0.021919</td>\n",
       "      <td>-0.062779</td>\n",
       "      <td>0.012703</td>\n",
       "      <td>-0.073550</td>\n",
       "      <td>-0.029131</td>\n",
       "    </tr>\n",
       "    <tr>\n",
       "      <th>var10</th>\n",
       "      <td>0.025797</td>\n",
       "      <td>-0.030064</td>\n",
       "      <td>-0.223194</td>\n",
       "      <td>-0.223187</td>\n",
       "      <td>-0.699988</td>\n",
       "      <td>-0.024391</td>\n",
       "      <td>-0.024473</td>\n",
       "      <td>1.000000</td>\n",
       "      <td>-0.725811</td>\n",
       "      <td>0.712192</td>\n",
       "      <td>0.498074</td>\n",
       "      <td>0.603717</td>\n",
       "      <td>0.615472</td>\n",
       "    </tr>\n",
       "    <tr>\n",
       "      <th>var13</th>\n",
       "      <td>0.049661</td>\n",
       "      <td>-0.026858</td>\n",
       "      <td>0.246662</td>\n",
       "      <td>0.246665</td>\n",
       "      <td>0.963726</td>\n",
       "      <td>-0.021997</td>\n",
       "      <td>-0.021919</td>\n",
       "      <td>-0.725811</td>\n",
       "      <td>1.000000</td>\n",
       "      <td>-0.035082</td>\n",
       "      <td>0.198044</td>\n",
       "      <td>-0.410376</td>\n",
       "      <td>-0.378936</td>\n",
       "    </tr>\n",
       "    <tr>\n",
       "      <th>var14</th>\n",
       "      <td>0.099706</td>\n",
       "      <td>-0.075904</td>\n",
       "      <td>-0.077232</td>\n",
       "      <td>-0.077219</td>\n",
       "      <td>-0.033747</td>\n",
       "      <td>-0.062742</td>\n",
       "      <td>-0.062779</td>\n",
       "      <td>0.712192</td>\n",
       "      <td>-0.035082</td>\n",
       "      <td>1.000000</td>\n",
       "      <td>0.921183</td>\n",
       "      <td>0.463726</td>\n",
       "      <td>0.508751</td>\n",
       "    </tr>\n",
       "    <tr>\n",
       "      <th>var15</th>\n",
       "      <td>-0.059109</td>\n",
       "      <td>-0.001524</td>\n",
       "      <td>0.054210</td>\n",
       "      <td>0.054224</td>\n",
       "      <td>0.202136</td>\n",
       "      <td>0.012793</td>\n",
       "      <td>0.012703</td>\n",
       "      <td>0.498074</td>\n",
       "      <td>0.198044</td>\n",
       "      <td>0.921183</td>\n",
       "      <td>1.000000</td>\n",
       "      <td>0.243379</td>\n",
       "      <td>0.427789</td>\n",
       "    </tr>\n",
       "    <tr>\n",
       "      <th>var16</th>\n",
       "      <td>0.247406</td>\n",
       "      <td>-0.077278</td>\n",
       "      <td>-0.165775</td>\n",
       "      <td>-0.165766</td>\n",
       "      <td>-0.374089</td>\n",
       "      <td>-0.073559</td>\n",
       "      <td>-0.073550</td>\n",
       "      <td>0.603717</td>\n",
       "      <td>-0.410376</td>\n",
       "      <td>0.463726</td>\n",
       "      <td>0.243379</td>\n",
       "      <td>1.000000</td>\n",
       "      <td>0.702935</td>\n",
       "    </tr>\n",
       "    <tr>\n",
       "      <th>var17</th>\n",
       "      <td>-0.153048</td>\n",
       "      <td>-0.032270</td>\n",
       "      <td>-0.103565</td>\n",
       "      <td>-0.103554</td>\n",
       "      <td>-0.343869</td>\n",
       "      <td>-0.028782</td>\n",
       "      <td>-0.029131</td>\n",
       "      <td>0.615472</td>\n",
       "      <td>-0.378936</td>\n",
       "      <td>0.508751</td>\n",
       "      <td>0.427789</td>\n",
       "      <td>0.702935</td>\n",
       "      <td>1.000000</td>\n",
       "    </tr>\n",
       "  </tbody>\n",
       "</table>\n",
       "</div>"
      ],
      "text/plain": [
       "           var3      var4      var5      var6      var7      var8      var9  \\\n",
       "var3   1.000000 -0.004936 -0.001899 -0.001895  0.035640  0.004115  0.004403   \n",
       "var4  -0.004936  1.000000  0.950192  0.950190 -0.091289  0.988812  0.988724   \n",
       "var5  -0.001899  0.950192  1.000000  1.000000  0.173517  0.940869  0.940815   \n",
       "var6  -0.001895  0.950190  1.000000  1.000000  0.173520  0.940868  0.940814   \n",
       "var7   0.035640 -0.091289  0.173517  0.173520  1.000000 -0.086174 -0.086182   \n",
       "var8   0.004115  0.988812  0.940869  0.940868 -0.086174  1.000000  0.999990   \n",
       "var9   0.004403  0.988724  0.940815  0.940814 -0.086182  0.999990  1.000000   \n",
       "var10  0.025797 -0.030064 -0.223194 -0.223187 -0.699988 -0.024391 -0.024473   \n",
       "var13  0.049661 -0.026858  0.246662  0.246665  0.963726 -0.021997 -0.021919   \n",
       "var14  0.099706 -0.075904 -0.077232 -0.077219 -0.033747 -0.062742 -0.062779   \n",
       "var15 -0.059109 -0.001524  0.054210  0.054224  0.202136  0.012793  0.012703   \n",
       "var16  0.247406 -0.077278 -0.165775 -0.165766 -0.374089 -0.073559 -0.073550   \n",
       "var17 -0.153048 -0.032270 -0.103565 -0.103554 -0.343869 -0.028782 -0.029131   \n",
       "\n",
       "          var10     var13     var14     var15     var16     var17  \n",
       "var3   0.025797  0.049661  0.099706 -0.059109  0.247406 -0.153048  \n",
       "var4  -0.030064 -0.026858 -0.075904 -0.001524 -0.077278 -0.032270  \n",
       "var5  -0.223194  0.246662 -0.077232  0.054210 -0.165775 -0.103565  \n",
       "var6  -0.223187  0.246665 -0.077219  0.054224 -0.165766 -0.103554  \n",
       "var7  -0.699988  0.963726 -0.033747  0.202136 -0.374089 -0.343869  \n",
       "var8  -0.024391 -0.021997 -0.062742  0.012793 -0.073559 -0.028782  \n",
       "var9  -0.024473 -0.021919 -0.062779  0.012703 -0.073550 -0.029131  \n",
       "var10  1.000000 -0.725811  0.712192  0.498074  0.603717  0.615472  \n",
       "var13 -0.725811  1.000000 -0.035082  0.198044 -0.410376 -0.378936  \n",
       "var14  0.712192 -0.035082  1.000000  0.921183  0.463726  0.508751  \n",
       "var15  0.498074  0.198044  0.921183  1.000000  0.243379  0.427789  \n",
       "var16  0.603717 -0.410376  0.463726  0.243379  1.000000  0.702935  \n",
       "var17  0.615472 -0.378936  0.508751  0.427789  0.702935  1.000000  "
      ]
     },
     "execution_count": 32,
     "metadata": {},
     "output_type": "execute_result"
    }
   ],
   "source": [
    "features_new[vars_to_mean[1:]].corr()"
   ]
  },
  {
   "cell_type": "markdown",
   "id": "4478e4ce",
   "metadata": {},
   "source": [
    "We see that many variables are correlated. Let's calculate which."
   ]
  },
  {
   "cell_type": "code",
   "execution_count": 33,
   "id": "4df3e7cd",
   "metadata": {},
   "outputs": [
    {
     "data": {
      "text/html": [
       "<div>\n",
       "<style scoped>\n",
       "    .dataframe tbody tr th:only-of-type {\n",
       "        vertical-align: middle;\n",
       "    }\n",
       "\n",
       "    .dataframe tbody tr th {\n",
       "        vertical-align: top;\n",
       "    }\n",
       "\n",
       "    .dataframe thead th {\n",
       "        text-align: right;\n",
       "    }\n",
       "</style>\n",
       "<table border=\"1\" class=\"dataframe\">\n",
       "  <thead>\n",
       "    <tr style=\"text-align: right;\">\n",
       "      <th></th>\n",
       "      <th>var3</th>\n",
       "      <th>var4</th>\n",
       "      <th>var5</th>\n",
       "      <th>var6</th>\n",
       "      <th>var7</th>\n",
       "      <th>var8</th>\n",
       "      <th>var9</th>\n",
       "      <th>var10</th>\n",
       "      <th>var13</th>\n",
       "      <th>var14</th>\n",
       "      <th>var15</th>\n",
       "      <th>var16</th>\n",
       "      <th>var17</th>\n",
       "    </tr>\n",
       "  </thead>\n",
       "  <tbody>\n",
       "    <tr>\n",
       "      <th>var3</th>\n",
       "      <td>True</td>\n",
       "      <td>False</td>\n",
       "      <td>False</td>\n",
       "      <td>False</td>\n",
       "      <td>False</td>\n",
       "      <td>False</td>\n",
       "      <td>False</td>\n",
       "      <td>False</td>\n",
       "      <td>False</td>\n",
       "      <td>False</td>\n",
       "      <td>False</td>\n",
       "      <td>False</td>\n",
       "      <td>False</td>\n",
       "    </tr>\n",
       "    <tr>\n",
       "      <th>var4</th>\n",
       "      <td>False</td>\n",
       "      <td>True</td>\n",
       "      <td>True</td>\n",
       "      <td>True</td>\n",
       "      <td>False</td>\n",
       "      <td>True</td>\n",
       "      <td>True</td>\n",
       "      <td>False</td>\n",
       "      <td>False</td>\n",
       "      <td>False</td>\n",
       "      <td>False</td>\n",
       "      <td>False</td>\n",
       "      <td>False</td>\n",
       "    </tr>\n",
       "    <tr>\n",
       "      <th>var5</th>\n",
       "      <td>False</td>\n",
       "      <td>True</td>\n",
       "      <td>True</td>\n",
       "      <td>True</td>\n",
       "      <td>False</td>\n",
       "      <td>False</td>\n",
       "      <td>False</td>\n",
       "      <td>False</td>\n",
       "      <td>False</td>\n",
       "      <td>False</td>\n",
       "      <td>False</td>\n",
       "      <td>False</td>\n",
       "      <td>False</td>\n",
       "    </tr>\n",
       "    <tr>\n",
       "      <th>var6</th>\n",
       "      <td>False</td>\n",
       "      <td>True</td>\n",
       "      <td>True</td>\n",
       "      <td>True</td>\n",
       "      <td>False</td>\n",
       "      <td>False</td>\n",
       "      <td>False</td>\n",
       "      <td>False</td>\n",
       "      <td>False</td>\n",
       "      <td>False</td>\n",
       "      <td>False</td>\n",
       "      <td>False</td>\n",
       "      <td>False</td>\n",
       "    </tr>\n",
       "    <tr>\n",
       "      <th>var7</th>\n",
       "      <td>False</td>\n",
       "      <td>False</td>\n",
       "      <td>False</td>\n",
       "      <td>False</td>\n",
       "      <td>True</td>\n",
       "      <td>False</td>\n",
       "      <td>False</td>\n",
       "      <td>False</td>\n",
       "      <td>True</td>\n",
       "      <td>False</td>\n",
       "      <td>False</td>\n",
       "      <td>False</td>\n",
       "      <td>False</td>\n",
       "    </tr>\n",
       "    <tr>\n",
       "      <th>var8</th>\n",
       "      <td>False</td>\n",
       "      <td>True</td>\n",
       "      <td>False</td>\n",
       "      <td>False</td>\n",
       "      <td>False</td>\n",
       "      <td>True</td>\n",
       "      <td>True</td>\n",
       "      <td>False</td>\n",
       "      <td>False</td>\n",
       "      <td>False</td>\n",
       "      <td>False</td>\n",
       "      <td>False</td>\n",
       "      <td>False</td>\n",
       "    </tr>\n",
       "    <tr>\n",
       "      <th>var9</th>\n",
       "      <td>False</td>\n",
       "      <td>True</td>\n",
       "      <td>False</td>\n",
       "      <td>False</td>\n",
       "      <td>False</td>\n",
       "      <td>True</td>\n",
       "      <td>True</td>\n",
       "      <td>False</td>\n",
       "      <td>False</td>\n",
       "      <td>False</td>\n",
       "      <td>False</td>\n",
       "      <td>False</td>\n",
       "      <td>False</td>\n",
       "    </tr>\n",
       "    <tr>\n",
       "      <th>var10</th>\n",
       "      <td>False</td>\n",
       "      <td>False</td>\n",
       "      <td>False</td>\n",
       "      <td>False</td>\n",
       "      <td>False</td>\n",
       "      <td>False</td>\n",
       "      <td>False</td>\n",
       "      <td>True</td>\n",
       "      <td>False</td>\n",
       "      <td>False</td>\n",
       "      <td>False</td>\n",
       "      <td>False</td>\n",
       "      <td>False</td>\n",
       "    </tr>\n",
       "    <tr>\n",
       "      <th>var13</th>\n",
       "      <td>False</td>\n",
       "      <td>False</td>\n",
       "      <td>False</td>\n",
       "      <td>False</td>\n",
       "      <td>True</td>\n",
       "      <td>False</td>\n",
       "      <td>False</td>\n",
       "      <td>False</td>\n",
       "      <td>True</td>\n",
       "      <td>False</td>\n",
       "      <td>False</td>\n",
       "      <td>False</td>\n",
       "      <td>False</td>\n",
       "    </tr>\n",
       "    <tr>\n",
       "      <th>var14</th>\n",
       "      <td>False</td>\n",
       "      <td>False</td>\n",
       "      <td>False</td>\n",
       "      <td>False</td>\n",
       "      <td>False</td>\n",
       "      <td>False</td>\n",
       "      <td>False</td>\n",
       "      <td>False</td>\n",
       "      <td>False</td>\n",
       "      <td>True</td>\n",
       "      <td>False</td>\n",
       "      <td>False</td>\n",
       "      <td>False</td>\n",
       "    </tr>\n",
       "    <tr>\n",
       "      <th>var15</th>\n",
       "      <td>False</td>\n",
       "      <td>False</td>\n",
       "      <td>False</td>\n",
       "      <td>False</td>\n",
       "      <td>False</td>\n",
       "      <td>False</td>\n",
       "      <td>False</td>\n",
       "      <td>False</td>\n",
       "      <td>False</td>\n",
       "      <td>False</td>\n",
       "      <td>True</td>\n",
       "      <td>False</td>\n",
       "      <td>False</td>\n",
       "    </tr>\n",
       "    <tr>\n",
       "      <th>var16</th>\n",
       "      <td>False</td>\n",
       "      <td>False</td>\n",
       "      <td>False</td>\n",
       "      <td>False</td>\n",
       "      <td>False</td>\n",
       "      <td>False</td>\n",
       "      <td>False</td>\n",
       "      <td>False</td>\n",
       "      <td>False</td>\n",
       "      <td>False</td>\n",
       "      <td>False</td>\n",
       "      <td>True</td>\n",
       "      <td>False</td>\n",
       "    </tr>\n",
       "    <tr>\n",
       "      <th>var17</th>\n",
       "      <td>False</td>\n",
       "      <td>False</td>\n",
       "      <td>False</td>\n",
       "      <td>False</td>\n",
       "      <td>False</td>\n",
       "      <td>False</td>\n",
       "      <td>False</td>\n",
       "      <td>False</td>\n",
       "      <td>False</td>\n",
       "      <td>False</td>\n",
       "      <td>False</td>\n",
       "      <td>False</td>\n",
       "      <td>True</td>\n",
       "    </tr>\n",
       "  </tbody>\n",
       "</table>\n",
       "</div>"
      ],
      "text/plain": [
       "        var3   var4   var5   var6   var7   var8   var9  var10  var13  var14  \\\n",
       "var3    True  False  False  False  False  False  False  False  False  False   \n",
       "var4   False   True   True   True  False   True   True  False  False  False   \n",
       "var5   False   True   True   True  False  False  False  False  False  False   \n",
       "var6   False   True   True   True  False  False  False  False  False  False   \n",
       "var7   False  False  False  False   True  False  False  False   True  False   \n",
       "var8   False   True  False  False  False   True   True  False  False  False   \n",
       "var9   False   True  False  False  False   True   True  False  False  False   \n",
       "var10  False  False  False  False  False  False  False   True  False  False   \n",
       "var13  False  False  False  False   True  False  False  False   True  False   \n",
       "var14  False  False  False  False  False  False  False  False  False   True   \n",
       "var15  False  False  False  False  False  False  False  False  False  False   \n",
       "var16  False  False  False  False  False  False  False  False  False  False   \n",
       "var17  False  False  False  False  False  False  False  False  False  False   \n",
       "\n",
       "       var15  var16  var17  \n",
       "var3   False  False  False  \n",
       "var4   False  False  False  \n",
       "var5   False  False  False  \n",
       "var6   False  False  False  \n",
       "var7   False  False  False  \n",
       "var8   False  False  False  \n",
       "var9   False  False  False  \n",
       "var10  False  False  False  \n",
       "var13  False  False  False  \n",
       "var14  False  False  False  \n",
       "var15   True  False  False  \n",
       "var16  False   True  False  \n",
       "var17  False  False   True  "
      ]
     },
     "execution_count": 33,
     "metadata": {},
     "output_type": "execute_result"
    }
   ],
   "source": [
    "features_corr = abs(features_new[vars_to_mean[1:]].corr() ) > 0.95\n",
    "features_corr"
   ]
  },
  {
   "cell_type": "markdown",
   "id": "702d42f9",
   "metadata": {},
   "source": [
    "Variables 4, 5, 6, 8, and 9 are all correlated with each other. \n",
    "So, let's drop columns."
   ]
  },
  {
   "cell_type": "code",
   "execution_count": 34,
   "id": "92fa0bcf",
   "metadata": {},
   "outputs": [],
   "source": [
    "features_not_corr = features_new.drop(['var5','var6','var8','var9'], axis = 1)"
   ]
  },
  {
   "cell_type": "markdown",
   "id": "a568589c",
   "metadata": {},
   "source": [
    "## Time Dependent Variables"
   ]
  },
  {
   "cell_type": "code",
   "execution_count": 35,
   "id": "24bc345c",
   "metadata": {},
   "outputs": [],
   "source": [
    "vars_dependent = ['var1', 'var11', 'var12']"
   ]
  },
  {
   "cell_type": "markdown",
   "id": "bda780d2",
   "metadata": {},
   "source": [
    "Let's plot these variables to try to get some intuition"
   ]
  },
  {
   "cell_type": "code",
   "execution_count": 36,
   "id": "f15bb664",
   "metadata": {},
   "outputs": [
    {
     "name": "stdout",
     "output_type": "stream",
     "text": [
      "Classification    Tidy\n",
      "Name: 500, dtype: object\n"
     ]
    },
    {
     "data": {
      "image/png": "[encoded data removed]",
      "text/plain": [
       "<Figure size 640x480 with 1 Axes>"
      ]
     },
     "metadata": {},
     "output_type": "display_data"
    }
   ],
   "source": [
    "i = 500\n",
    "print(labels.iloc[i])\n",
    "dfs[i][['TimeM2', 'var11', 'var12']].set_index('TimeM2').plot()\n",
    "del(i)"
   ]
  },
  {
   "cell_type": "code",
   "execution_count": 53,
   "id": "5998c2b3",
   "metadata": {},
   "outputs": [
    {
     "name": "stdout",
     "output_type": "stream",
     "text": [
      "Classification    Untidy\n",
      "Name: 100, dtype: object\n"
     ]
    },
    {
     "data": {
      "image/png": "[encoded data removed]",
      "text/plain": [
       "<Figure size 640x480 with 1 Axes>"
      ]
     },
     "metadata": {},
     "output_type": "display_data"
    }
   ],
   "source": [
    "i = 100\n",
    "print(labels.iloc[i])\n",
    "dfs[i][['TimeM2', 'var11', 'var12']].set_index('TimeM2').plot()\n",
    "del(i)"
   ]
  },
  {
   "cell_type": "code",
   "execution_count": 37,
   "id": "f1a9d4fd",
   "metadata": {},
   "outputs": [
    {
     "name": "stdout",
     "output_type": "stream",
     "text": [
      "Classification    Untidy\n",
      "Name: 200, dtype: object\n"
     ]
    },
    {
     "data": {
      "image/png": "[encoded data removed]",
      "text/plain": [
       "<Figure size 640x480 with 1 Axes>"
      ]
     },
     "metadata": {},
     "output_type": "display_data"
    }
   ],
   "source": [
    "i = 200\n",
    "print(labels.iloc[i])\n",
    "dfs[i][['TimeM2', 'var11', 'var12']].set_index('TimeM2').plot()\n",
    "del(i)"
   ]
  },
  {
   "cell_type": "code",
   "execution_count": 55,
   "id": "0448c128",
   "metadata": {},
   "outputs": [
    {
     "name": "stdout",
     "output_type": "stream",
     "text": [
      "Classification    Tidy\n",
      "Name: 300, dtype: object\n"
     ]
    },
    {
     "data": {
      "image/png": "[encoded data removed]",
      "text/plain": [
       "<Figure size 640x480 with 1 Axes>"
      ]
     },
     "metadata": {},
     "output_type": "display_data"
    }
   ],
   "source": [
    "i = 300\n",
    "print(labels.iloc[i])\n",
    "dfs[i][['TimeM2', 'var11', 'var12']].set_index('TimeM2').plot()\n",
    "del(i)"
   ]
  },
  {
   "cell_type": "code",
   "execution_count": 38,
   "id": "75c93ca7",
   "metadata": {},
   "outputs": [
    {
     "name": "stdout",
     "output_type": "stream",
     "text": [
      "Classification    Untidy\n",
      "Name: 400, dtype: object\n"
     ]
    },
    {
     "data": {
      "image/png": "[encoded data removed]",
      "text/plain": [
       "<Figure size 640x480 with 1 Axes>"
      ]
     },
     "metadata": {},
     "output_type": "display_data"
    }
   ],
   "source": [
    "i = 400\n",
    "print(labels.iloc[i])\n",
    "dfs[i][['TimeM2', 'var11', 'var12']].set_index('TimeM2').plot()\n",
    "del(i)"
   ]
  },
  {
   "cell_type": "markdown",
   "id": "adcdd34b",
   "metadata": {},
   "source": [
    "It is not clear to me what the pattern is. var1 seems to oscillate around its mean value, with one or two peaks per product. \n",
    "I will estimate var11 by its average value.\n",
    "var12 is often a step function. I will estimate var12 by its last time value.\n",
    "Let's plot var1 now."
   ]
  },
  {
   "cell_type": "code",
   "execution_count": 39,
   "id": "8bf7720d",
   "metadata": {},
   "outputs": [
    {
     "name": "stdout",
     "output_type": "stream",
     "text": [
      "Classification    Untidy\n",
      "Name: 450, dtype: object\n"
     ]
    },
    {
     "data": {
      "image/png": "[encoded data removed]",
      "text/plain": [
       "<Figure size 640x480 with 1 Axes>"
      ]
     },
     "metadata": {},
     "output_type": "display_data"
    }
   ],
   "source": [
    "i = 450\n",
    "print(labels.iloc[i])\n",
    "dfs[i][['TimeM5', 'var1']].set_index('TimeM5').plot()\n",
    "del(i)"
   ]
  },
  {
   "cell_type": "code",
   "execution_count": 71,
   "id": "9b8da9c8",
   "metadata": {},
   "outputs": [
    {
     "name": "stdout",
     "output_type": "stream",
     "text": [
      "Classification    Tidy\n",
      "Name: 300, dtype: object\n"
     ]
    },
    {
     "data": {
      "image/png": "[encoded data removed]",
      "text/plain": [
       "<Figure size 640x480 with 1 Axes>"
      ]
     },
     "metadata": {},
     "output_type": "display_data"
    }
   ],
   "source": [
    "i = 300\n",
    "print(labels.iloc[i])\n",
    "dfs[i][['TimeM5', 'var1']].set_index('TimeM5').plot()\n",
    "del(i)"
   ]
  },
  {
   "cell_type": "code",
   "execution_count": 72,
   "id": "06a39473",
   "metadata": {},
   "outputs": [
    {
     "name": "stdout",
     "output_type": "stream",
     "text": [
      "Classification    Untidy\n",
      "Name: 400, dtype: object\n"
     ]
    },
    {
     "data": {
      "image/png": "[encoded data removed]",
      "text/plain": [
       "<Figure size 640x480 with 1 Axes>"
      ]
     },
     "metadata": {},
     "output_type": "display_data"
    }
   ],
   "source": [
    "i = 400\n",
    "print(labels.iloc[i])\n",
    "dfs[i][['TimeM5', 'var1']].set_index('TimeM5').plot()\n",
    "del(i)"
   ]
  },
  {
   "cell_type": "code",
   "execution_count": 74,
   "id": "c00c08b5",
   "metadata": {},
   "outputs": [
    {
     "name": "stdout",
     "output_type": "stream",
     "text": [
      "Classification    Lighting\n",
      "Name: 150, dtype: object\n"
     ]
    },
    {
     "data": {
      "image/png": "[encoded data removed]",
      "text/plain": [
       "<Figure size 640x480 with 1 Axes>"
      ]
     },
     "metadata": {},
     "output_type": "display_data"
    }
   ],
   "source": [
    "i = 150\n",
    "print(labels.iloc[i])\n",
    "dfs[i][['TimeM5', 'var1']].set_index('TimeM5').plot()\n",
    "del(i)"
   ]
  },
  {
   "cell_type": "markdown",
   "id": "9d8a87e7",
   "metadata": {},
   "source": [
    "I'm not sure what's the pattern in var1. I'm going to approximate it by its last value."
   ]
  },
  {
   "cell_type": "code",
   "execution_count": 40,
   "id": "b6335010",
   "metadata": {},
   "outputs": [],
   "source": [
    "vars_dependent = ['var1', 'var11', 'var12']\n",
    "\n",
    "stats_dep={}\n",
    "\n",
    "#var11\n",
    "stat = []\n",
    "for i in range(len(dfs)):\n",
    "    stat.append(dfs[i].var11.mean())\n",
    "stats_dep['var11'] = np.array(stat)\n",
    "\n",
    "#var12\n",
    "stat = []\n",
    "for i in range(len(dfs)):\n",
    "    stat.append( dfs[i].var12.dropna().iloc[-1] )\n",
    "stats_dep['var12'] = np.array(stat)\n",
    "\n",
    "#var1\n",
    "stat = []\n",
    "for i in range(len(dfs)):\n",
    "    stat.append( dfs[i].var1.dropna().iloc[-1] )\n",
    "stats_dep['var1'] = np.array(stat)\n",
    "\n",
    "features_dep = pd.DataFrame(stats_dep) # features involving the time dependent variables"
   ]
  },
  {
   "cell_type": "code",
   "execution_count": 41,
   "id": "0f50d2d0",
   "metadata": {},
   "outputs": [
    {
     "data": {
      "text/html": [
       "<div>\n",
       "<style scoped>\n",
       "    .dataframe tbody tr th:only-of-type {\n",
       "        vertical-align: middle;\n",
       "    }\n",
       "\n",
       "    .dataframe tbody tr th {\n",
       "        vertical-align: top;\n",
       "    }\n",
       "\n",
       "    .dataframe thead th {\n",
       "        text-align: right;\n",
       "    }\n",
       "</style>\n",
       "<table border=\"1\" class=\"dataframe\">\n",
       "  <thead>\n",
       "    <tr style=\"text-align: right;\">\n",
       "      <th></th>\n",
       "      <th>var11</th>\n",
       "      <th>var12</th>\n",
       "      <th>var1</th>\n",
       "    </tr>\n",
       "  </thead>\n",
       "  <tbody>\n",
       "    <tr>\n",
       "      <th>var11</th>\n",
       "      <td>1.000000</td>\n",
       "      <td>0.351625</td>\n",
       "      <td>-0.236423</td>\n",
       "    </tr>\n",
       "    <tr>\n",
       "      <th>var12</th>\n",
       "      <td>0.351625</td>\n",
       "      <td>1.000000</td>\n",
       "      <td>0.046621</td>\n",
       "    </tr>\n",
       "    <tr>\n",
       "      <th>var1</th>\n",
       "      <td>-0.236423</td>\n",
       "      <td>0.046621</td>\n",
       "      <td>1.000000</td>\n",
       "    </tr>\n",
       "  </tbody>\n",
       "</table>\n",
       "</div>"
      ],
      "text/plain": [
       "          var11     var12      var1\n",
       "var11  1.000000  0.351625 -0.236423\n",
       "var12  0.351625  1.000000  0.046621\n",
       "var1  -0.236423  0.046621  1.000000"
      ]
     },
     "execution_count": 41,
     "metadata": {},
     "output_type": "execute_result"
    }
   ],
   "source": [
    "features_dep.corr()"
   ]
  },
  {
   "cell_type": "markdown",
   "id": "e5a3385f",
   "metadata": {},
   "source": [
    "Let's join the time-dependent features with the others, to get the final set of features."
   ]
  },
  {
   "cell_type": "code",
   "execution_count": 42,
   "id": "fe727f17",
   "metadata": {},
   "outputs": [],
   "source": [
    "features_final = features_not_corr.join(features_dep.loc[features_not_corr.index])\n",
    "labels_final = l.loc[features_final.index].replace({'Tidy' : 1, 'Untidy' : 0})"
   ]
  },
  {
   "cell_type": "markdown",
   "id": "0829b6b5",
   "metadata": {},
   "source": [
    "## ANOVA analysis "
   ]
  },
  {
   "cell_type": "markdown",
   "id": "3dce03cf",
   "metadata": {},
   "source": [
    "Let's briefly examine which feature variables are more important for our classification problem."
   ]
  },
  {
   "cell_type": "code",
   "execution_count": 70,
   "id": "efb9dabb",
   "metadata": {},
   "outputs": [],
   "source": [
    "data = features_final.join(labels_final)\n",
    "var_table=['var3', 'var4', 'var7', 'var10',\n",
    "       'var13', 'var14', 'var15', 'var16', 'var17', 'var11', 'var12', 'var1']"
   ]
  },
  {
   "cell_type": "code",
   "execution_count": 71,
   "id": "b07ffc76",
   "metadata": {},
   "outputs": [
    {
     "name": "stdout",
     "output_type": "stream",
     "text": [
      "              sum_sq     df          F    PR(>F)\n",
      "var3        4.068350    1.0  19.674569  0.000011\n",
      "Residual  104.218211  504.0        NaN       NaN\n",
      "              sum_sq     df         F   PR(>F)\n",
      "var4        0.708672    1.0  3.320113  0.06903\n",
      "Residual  107.577889  504.0       NaN      NaN\n",
      "              sum_sq     df         F    PR(>F)\n",
      "var7        0.462566    1.0  2.162166  0.142069\n",
      "Residual  107.823995  504.0       NaN       NaN\n",
      "              sum_sq     df         F    PR(>F)\n",
      "var10       1.235133    1.0  5.815026  0.016246\n",
      "Residual  107.051429  504.0       NaN       NaN\n",
      "              sum_sq     df         F    PR(>F)\n",
      "var13       0.140817    1.0  0.656258  0.418266\n",
      "Residual  108.145745  504.0       NaN       NaN\n",
      "              sum_sq     df         F    PR(>F)\n",
      "var14       1.449416    1.0  6.837563  0.009193\n",
      "Residual  106.837145  504.0       NaN       NaN\n",
      "              sum_sq     df         F    PR(>F)\n",
      "var15       1.266965    1.0  5.966668  0.014921\n",
      "Residual  107.019596  504.0       NaN       NaN\n",
      "              sum_sq     df         F    PR(>F)\n",
      "var16       0.000294    1.0  0.001369  0.970499\n",
      "Residual  108.286267  504.0       NaN       NaN\n",
      "              sum_sq     df         F    PR(>F)\n",
      "var17       0.939149    1.0  4.409337  0.036239\n",
      "Residual  107.347413  504.0       NaN       NaN\n",
      "              sum_sq     df         F   PR(>F)\n",
      "var11       0.939241    1.0  4.409775  0.03623\n",
      "Residual  107.347320  504.0       NaN      NaN\n",
      "              sum_sq     df         F   PR(>F)\n",
      "var12       0.000294    1.0  0.001368  0.97051\n",
      "Residual  108.286267  504.0       NaN      NaN\n",
      "              sum_sq     df         F    PR(>F)\n",
      "var1        0.871017    1.0  4.086862  0.043746\n",
      "Residual  107.415544  504.0       NaN       NaN\n"
     ]
    }
   ],
   "source": [
    "import statsmodels.api as sm\n",
    "from statsmodels.formula.api import ols\n",
    "\n",
    "for var in var_table:\n",
    "    \n",
    "    model = ols('Classification ~ ' +var,                 # Model formula\n",
    "            data = data).fit()\n",
    "                \n",
    "    anova_result = sm.stats.anova_lm(model, typ=2)\n",
    "    print (anova_result)"
   ]
  },
  {
   "cell_type": "markdown",
   "id": "e5462000",
   "metadata": {},
   "source": [
    "Let's interpret these results. Higher P value implies that the null hypothesis is true, i.e the feature variable and the classification variable are independent.\n",
    "\n",
    "So, the less important features for our model have higher P-values. These are var16 and var12."
   ]
  },
  {
   "cell_type": "markdown",
   "id": "9c54ed5c",
   "metadata": {},
   "source": [
    "Indeed we observe that"
   ]
  },
  {
   "cell_type": "code",
   "execution_count": 82,
   "id": "4369421c",
   "metadata": {},
   "outputs": [
    {
     "data": {
      "text/plain": [
       "var12   Classification\n",
       "0.00    0                 128\n",
       "        1                  56\n",
       "949.00  0                   2\n",
       "931.06  1                   2\n",
       "930.14  0                   2\n",
       "                         ... \n",
       "927.38  0                   1\n",
       "927.30  1                   1\n",
       "927.23  1                   1\n",
       "927.15  0                   1\n",
       "998.33  0                   1\n",
       "Name: count, Length: 317, dtype: int64"
      ]
     },
     "execution_count": 82,
     "metadata": {},
     "output_type": "execute_result"
    }
   ],
   "source": [
    "data[['var12','Classification']].value_counts()"
   ]
  },
  {
   "cell_type": "markdown",
   "id": "8b6755f7",
   "metadata": {},
   "source": [
    "## Model - Logistic Regression"
   ]
  },
  {
   "cell_type": "markdown",
   "id": "00f19a0c",
   "metadata": {},
   "source": [
    "Let's not use the categorical variables in the features, since we have a linear model."
   ]
  },
  {
   "cell_type": "code",
   "execution_count": 43,
   "id": "cfb064f4",
   "metadata": {},
   "outputs": [],
   "source": [
    "features_no_cat = features_final.drop(['lag1','lag2','lag3','lag4','lag5'], axis = 1)"
   ]
  },
  {
   "cell_type": "code",
   "execution_count": 44,
   "id": "3d669e57",
   "metadata": {},
   "outputs": [],
   "source": [
    "from sklearn import preprocessing\n",
    "\n",
    "scaler = preprocessing.StandardScaler().fit(features_no_cat)\n",
    "X = scaler.transform(features_no_cat) #normalization of the features"
   ]
  },
  {
   "cell_type": "code",
   "execution_count": 46,
   "id": "d941a1ec",
   "metadata": {},
   "outputs": [
    {
     "name": "stdout",
     "output_type": "stream",
     "text": [
      "[-0.0, -0.0, 0.0, -0.0, 0.0, -0.0, 0.0, -0.0, -0.0, -0.0, 0.0, 0.0]\n"
     ]
    },
    {
     "data": {
      "text/plain": [
       "[1.0, 1.0, 1.0, 1.0, 1.0, 1.0, 1.0, 1.0, 1.0, 1.0, 1.0, 1.0]"
      ]
     },
     "execution_count": 46,
     "metadata": {},
     "output_type": "execute_result"
    }
   ],
   "source": [
    "print([round(np.mean(X[:,i]),10) for i in range(len(X[0,:]))]) #0 mean\n",
    "[round(np.std(X[:,i]),10) for i in range(len(X[0,:]))] # unit std"
   ]
  },
  {
   "cell_type": "code",
   "execution_count": 47,
   "id": "844352e0",
   "metadata": {},
   "outputs": [
    {
     "data": {
      "text/plain": [
       "array([[81,  3],\n",
       "       [41,  2]])"
      ]
     },
     "execution_count": 47,
     "metadata": {},
     "output_type": "execute_result"
    }
   ],
   "source": [
    "from sklearn.model_selection import train_test_split\n",
    "from sklearn.linear_model import LogisticRegression\n",
    "from sklearn import metrics\n",
    "\n",
    "X_train, X_test, y_train, y_test = train_test_split(X, labels_final.Classification.to_numpy(), \n",
    "                                                    test_size=0.25, random_state=10)\n",
    "\n",
    "logreg = LogisticRegression(random_state=10)\n",
    "\n",
    "# fit the model with data\n",
    "logreg.fit(X_train, y_train)\n",
    "\n",
    "y_pred = logreg.predict(X_test)\n",
    "\n",
    "cnf_matrix = metrics.confusion_matrix(y_test, y_pred)\n",
    "cnf_matrix"
   ]
  },
  {
   "cell_type": "code",
   "execution_count": 48,
   "id": "97dc57b7",
   "metadata": {},
   "outputs": [
    {
     "data": {
      "text/plain": [
       "array([[80,  4],\n",
       "       [42,  1]])"
      ]
     },
     "execution_count": 48,
     "metadata": {},
     "output_type": "execute_result"
    }
   ],
   "source": [
    "from sklearn import preprocessing\n",
    "\n",
    "features_no_dep = features_no_cat.drop(['var1','var11','var12'], axis = 1)\n",
    "\n",
    "scaler = preprocessing.StandardScaler().fit(features_no_dep)\n",
    "X = scaler.transform(features_no_dep)\n",
    "\n",
    "X_train, X_test, y_train, y_test = train_test_split(X, labels_final.Classification.to_numpy(), test_size=0.25, random_state=10)\n",
    "\n",
    "logreg = LogisticRegression(random_state=10)\n",
    "\n",
    "# fit the model with data\n",
    "logreg.fit(X_train, y_train)\n",
    "\n",
    "y_pred = logreg.predict(X_test)\n",
    "\n",
    "cnf_matrix = metrics.confusion_matrix(y_test, y_pred)\n",
    "cnf_matrix"
   ]
  },
  {
   "cell_type": "markdown",
   "id": "b8e02306",
   "metadata": {},
   "source": [
    "## Model - Decision Trees"
   ]
  },
  {
   "cell_type": "markdown",
   "id": "d62e8d82",
   "metadata": {},
   "source": [
    "Let's include the categorical variables."
   ]
  },
  {
   "cell_type": "code",
   "execution_count": 49,
   "id": "ca4b1cd4",
   "metadata": {},
   "outputs": [
    {
     "data": {
      "text/plain": [
       "array([[47, 21],\n",
       "       [22, 12]])"
      ]
     },
     "execution_count": 49,
     "metadata": {},
     "output_type": "execute_result"
    }
   ],
   "source": [
    "from sklearn.model_selection import train_test_split\n",
    "from sklearn import tree\n",
    "from sklearn import metrics\n",
    "from sklearn.preprocessing import OrdinalEncoder\n",
    "\n",
    "X_train, X_test, y_train, y_test = train_test_split(features_final, labels_final.Classification.to_numpy(),\n",
    "                                                    test_size=0.2, random_state=10)\n",
    "\n",
    "\n",
    "# Make copy to avoid changing original data \n",
    "label_X_train = X_train.copy()\n",
    "label_X_test = X_test.copy()\n",
    "\n",
    "cols_cat=['lag1','lag2','lag3','lag4','lag5'] #categorical variables\n",
    "\n",
    "# Apply ordinal encoder to each column with categorical data\n",
    "ordinal_encoder = OrdinalEncoder()\n",
    "label_X_train[cols_cat] = ordinal_encoder.fit_transform(X_train[cols_cat])\n",
    "label_X_test[cols_cat] = ordinal_encoder.transform(X_test[cols_cat])\n",
    "\n",
    "model= tree.DecisionTreeClassifier()\n",
    "\n",
    "# fit the model with data\n",
    "model.fit(label_X_train, y_train)\n",
    "\n",
    "y_pred = model.predict(label_X_test)\n",
    "\n",
    "cnf_matrix = metrics.confusion_matrix(y_test, y_pred)\n",
    "cnf_matrix"
   ]
  },
  {
   "cell_type": "markdown",
   "id": "05398804",
   "metadata": {},
   "source": [
    "## Model - Random Forests"
   ]
  },
  {
   "cell_type": "code",
   "execution_count": 84,
   "id": "04cda7cc",
   "metadata": {},
   "outputs": [
    {
     "name": "stdout",
     "output_type": "stream",
     "text": [
      "[[61 12]\n",
      " [19  9]]\n",
      "[[62 11]\n",
      " [18 10]]\n",
      "[[60 13]\n",
      " [16 12]]\n",
      "[[69  4]\n",
      " [17 11]]\n",
      "[[64  9]\n",
      " [16 12]]\n"
     ]
    }
   ],
   "source": [
    "from sklearn.ensemble import RandomForestClassifier\n",
    "from sklearn.model_selection import train_test_split\n",
    "from sklearn import metrics\n",
    "from sklearn.preprocessing import OrdinalEncoder\n",
    "\n",
    "\n",
    "# Define the models\n",
    "model1 = RandomForestClassifier(n_estimators=50, random_state=0)\n",
    "model2 = RandomForestClassifier(n_estimators=100, random_state=0)\n",
    "model3 = RandomForestClassifier(n_estimators=200, random_state=0)\n",
    "model4 = RandomForestClassifier(n_estimators=200, min_samples_split=20, random_state=0)\n",
    "model5 = RandomForestClassifier(n_estimators=100, max_depth=7, random_state=0)\n",
    "\n",
    "X_train, X_test, y_train, y_test = train_test_split(features_final.iloc[5:], labels_final.Classification.to_numpy()[5:],\n",
    "                                                    test_size=0.2, random_state=10)\n",
    "\n",
    "# Make copy to avoid changing original data \n",
    "label_X_train = X_train.copy()\n",
    "label_X_test = X_test.copy()\n",
    "\n",
    "cols_cat=['lag1','lag2','lag3','lag4','lag5']\n",
    "\n",
    "# Apply ordinal encoder to each column with categorical data\n",
    "ordinal_encoder = OrdinalEncoder()\n",
    "label_X_train[cols_cat] = ordinal_encoder.fit_transform(X_train[cols_cat])\n",
    "label_X_test[cols_cat] = ordinal_encoder.transform(X_test[cols_cat])\n",
    "\n",
    "\n",
    "# fit the models with data\n",
    "model1.fit(label_X_train, y_train)\n",
    "model2.fit(label_X_train, y_train)\n",
    "model3.fit(label_X_train, y_train)\n",
    "model4.fit(label_X_train, y_train)\n",
    "model5.fit(label_X_train, y_train)\n",
    "\n",
    "y1_pred = model1.predict(label_X_test)\n",
    "y2_pred = model2.predict(label_X_test)\n",
    "y3_pred = model3.predict(label_X_test)\n",
    "y4_pred = model4.predict(label_X_test)\n",
    "y5_pred = model5.predict(label_X_test)\n",
    "\n",
    "cnf1_matrix = metrics.confusion_matrix(y_test, y1_pred)\n",
    "print(cnf1_matrix)\n",
    "\n",
    "cnf2_matrix = metrics.confusion_matrix(y_test, y2_pred)\n",
    "print(cnf2_matrix)\n",
    "\n",
    "cnf3_matrix = metrics.confusion_matrix(y_test, y3_pred)\n",
    "print(cnf3_matrix)\n",
    "\n",
    "cnf4_matrix = metrics.confusion_matrix(y_test, y4_pred)\n",
    "print(cnf4_matrix)\n",
    "\n",
    "cnf5_matrix = metrics.confusion_matrix(y_test, y5_pred)\n",
    "print(cnf5_matrix)"
   ]
  },
  {
   "cell_type": "markdown",
   "id": "4cd5d47c",
   "metadata": {},
   "source": [
    "## Model - Random Forests - using just the categorical variable"
   ]
  },
  {
   "cell_type": "code",
   "execution_count": 52,
   "id": "08edd761",
   "metadata": {},
   "outputs": [
    {
     "name": "stdout",
     "output_type": "stream",
     "text": [
      "[[69  4]\n",
      " [20  8]]\n",
      "[[70  3]\n",
      " [20  8]]\n",
      "[[70  3]\n",
      " [20  8]]\n",
      "[[70  3]\n",
      " [22  6]]\n",
      "[[70  3]\n",
      " [20  8]]\n"
     ]
    }
   ],
   "source": [
    "from sklearn.ensemble import RandomForestClassifier\n",
    "from sklearn.model_selection import train_test_split\n",
    "from sklearn import metrics\n",
    "from sklearn.preprocessing import OrdinalEncoder\n",
    "\n",
    "\n",
    "# Define the models\n",
    "model1 = RandomForestClassifier(n_estimators=50, random_state=0)\n",
    "model2 = RandomForestClassifier(n_estimators=100, random_state=0)\n",
    "model3 = RandomForestClassifier(n_estimators=200, random_state=0)\n",
    "model4 = RandomForestClassifier(n_estimators=200, min_samples_split=20, random_state=0)\n",
    "model5 = RandomForestClassifier(n_estimators=100, max_depth=7, random_state=0)\n",
    "\n",
    "cols_cat=['lag1','lag2','lag3','lag4','lag5']\n",
    "\n",
    "X_train, X_test, y_train, y_test = train_test_split(features_final[cols_cat].iloc[5:], \n",
    "                                                    labels_final.Classification.to_numpy()[5:],\n",
    "                                                    test_size=0.2, random_state=10)\n",
    "\n",
    "# Make copy to avoid changing original data \n",
    "label_X_train = X_train.copy()\n",
    "label_X_test = X_test.copy()\n",
    "\n",
    "# Apply ordinal encoder to each column with categorical data\n",
    "ordinal_encoder = OrdinalEncoder()\n",
    "label_X_train[cols_cat] = ordinal_encoder.fit_transform(X_train[cols_cat])\n",
    "label_X_test[cols_cat] = ordinal_encoder.transform(X_test[cols_cat])\n",
    "\n",
    "\n",
    "# instantiate the model (using the default parameters)\n",
    "\n",
    "# fit the models with data\n",
    "model1.fit(label_X_train, y_train)\n",
    "model2.fit(label_X_train, y_train)\n",
    "model3.fit(label_X_train, y_train)\n",
    "model4.fit(label_X_train, y_train)\n",
    "model5.fit(label_X_train, y_train)\n",
    "\n",
    "y1_pred = model1.predict(label_X_test)\n",
    "y2_pred = model2.predict(label_X_test)\n",
    "y3_pred = model3.predict(label_X_test)\n",
    "y4_pred = model4.predict(label_X_test)\n",
    "y5_pred = model5.predict(label_X_test)\n",
    "\n",
    "cnf1_matrix = metrics.confusion_matrix(y_test, y1_pred)\n",
    "print(cnf1_matrix)\n",
    "\n",
    "cnf2_matrix = metrics.confusion_matrix(y_test, y2_pred)\n",
    "print(cnf2_matrix)\n",
    "\n",
    "cnf3_matrix = metrics.confusion_matrix(y_test, y3_pred)\n",
    "print(cnf3_matrix)\n",
    "\n",
    "cnf4_matrix = metrics.confusion_matrix(y_test, y4_pred)\n",
    "print(cnf4_matrix)\n",
    "\n",
    "cnf5_matrix = metrics.confusion_matrix(y_test, y5_pred)\n",
    "print(cnf5_matrix)"
   ]
  }
 ],
 "metadata": {
  "kernelspec": {
   "display_name": "Python 3 (ipykernel)",
   "language": "python",
   "name": "python3"
  },
  "language_info": {
   "codemirror_mode": {
    "name": "ipython",
    "version": 3
   },
   "file_extension": ".py",
   "mimetype": "text/x-python",
   "name": "python",
   "nbconvert_exporter": "python",
   "pygments_lexer": "ipython3",
   "version": "3.11.5"
  }
 },
 "nbformat": 4,
 "nbformat_minor": 5
}
